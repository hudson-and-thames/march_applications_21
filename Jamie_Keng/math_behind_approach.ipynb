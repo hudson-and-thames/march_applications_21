{
 "cells": [
  {
   "cell_type": "markdown",
   "metadata": {},
   "source": [
    "## Extended Approach"
   ]
  },
  {
   "cell_type": "markdown",
   "metadata": {},
   "source": [
    "***\n",
    "$\\mathbf{\\text{Multivariate Spearman' rho}}$ <br>\n",
    "reference: p.12 Multivariate Spearman’s ρ for Aggregating Ranks UsingCopulas[https://jmlr.org/papers/volume17/15-625/15-625.pdf]<br>\n",
    "\n",
    "*** \n",
    "An empirical expression for multivariate Spearman’s correlation: \n",
    "\n",
    "$$\n",
    "\\rho_{n}(R_{1},...,R_{d}) = h(d)*[\\frac{2^{d}}{n} \\sum_{x} \\prod^{d}_{j=1} R_{j} -1 ]\n",
    "$$\n",
    "<br>\n",
    "where\n",
    "\n",
    "$$h(d) = \\frac{(d+1)}{2^{d} - (d+1)}$$\n"
   ]
  },
  {
   "cell_type": "markdown",
   "metadata": {},
   "source": [
    "---"
   ]
  },
  {
   "cell_type": "markdown",
   "metadata": {},
   "source": [
    "## Geometric Approach"
   ]
  },
  {
   "cell_type": "markdown",
   "metadata": {},
   "source": [
    "Sum of Euclidean distance : \n",
    "$$ \\sum_{i=1}^{n} |(P - P_{1}) - \\frac{(P - P_{1}) \\cdot (P_{2} - P_{1})}{|P_{2} -P_{1}|^{2}} (P_{2} - P_{1})|$$\n",
    "\n",
    "\n",
    "where \n",
    "\n",
    "$$ P = (R_{1,i},R_{2,i},R_{3,i},R_{4,i})  $$\n",
    "\n",
    "$$ P_{1} = (0,0,0,0) $$\n",
    "\n",
    "$$ P_{2} = (1,1,1,1) $$ \n",
    "\n"
   ]
  },
  {
   "cell_type": "markdown",
   "metadata": {},
   "source": [
    "----"
   ]
  },
  {
   "cell_type": "markdown",
   "metadata": {},
   "source": [
    "## Extremal Approach"
   ]
  },
  {
   "cell_type": "markdown",
   "metadata": {},
   "source": [
    "According to definition 5 in Mangold (2015), <br>\n",
    "4-dimensional polynomial copula given $\\alpha=1$ is  <br>\n",
    "\n",
    "$C^{\\alpha}_{\\theta}(u_{1}, u_{2}, u_{3}, u_{4}) = u_1u_2u_3u_4 + (1 + ((1- u_{1})(1- u_{2})(1- u_{3})(1- u_{4})) * ( \n",
    "\\theta_{1} ((1- u_{1})(1- u_{2})(1- u_{3})(1- u_{4})) + \n",
    "\\theta_{2} ((1- u_{1})(1- u_{2})(1- u_{3})u_{4}) + \n",
    "\\theta_{3} ((1- u_{1})(1- u_{2})u_{3}(1- u_{4})) + \n",
    "\\theta_{4} ((1- u_{1})(1- u_{2})u_{3}u_{4}) + \n",
    "\\theta_{5} ((1- u_{1})u_{2}(1- u_{3})(1- u_{4})) + \n",
    "\\theta_{6} ((1- u_{1})u_{2}(1- u_{3})u_{4}) + \n",
    "\\theta_{7} ((1- u_{1})u_{2}u_{3}(1- u_{4})) + \n",
    "\\theta_{8} ((1- u_{1})u_{2}u_{3}u_{4}) + \n",
    "\\theta_{9} (u_{1}(1- u_{2})(1- u_{3})(1- u_{4})) + \n",
    "\\theta_{10} (u_{1}(1- u_{2})(1- u_{3})u_{4}) + \n",
    "\\theta_{11} (u_{1}(1- u_{2})u_{3}(1- u_{4})) + \n",
    "\\theta_{12} (u_{1}(1- u_{2})u_{3}u_{4}) + \n",
    "\\theta_{13} (u_{1}u_{2}(1- u_{3})(1- u_{4})) + \n",
    "\\theta_{14} (u_{1}u_{2}(1- u_{3})u_{4}) + \n",
    "\\theta_{15} (u_{1}(1- u_{2})u_{3}(1- u_{4})) + \n",
    "\\theta_{16} (u_{1}u_{2}u_{3}u_{4})  \n",
    ") \n",
    "$\n"
   ]
  },
  {
   "cell_type": "markdown",
   "metadata": {},
   "source": [
    "Let <br>\n",
    "$A = u_1u_2u_3u_4$, <br>\n",
    "\n",
    "$C = u_1u_2u_3u_4 \\times (1- u_{1})(1- u_{2})(1- u_{3})(1- u_{4})$ <br>\n",
    "\n",
    "$B = \n",
    "( \n",
    "\\theta_{1} ((1- u_{1})(1- u_{2})(1- u_{3})(1- u_{4})) + \n",
    "\\theta_{2} ((1- u_{1})(1- u_{2})(1- u_{3})u_{4}) + \n",
    "\\theta_{3} ((1- u_{1})(1- u_{2})u_{3}(1- u_{4})) + \n",
    "\\theta_{4} ((1- u_{1})(1- u_{2})u_{3}u_{4}) + \n",
    "\\theta_{5} ((1- u_{1})u_{2}(1- u_{3})(1- u_{4})) + \n",
    "\\theta_{6} ((1- u_{1})u_{2}(1- u_{3})u_{4}) + \n",
    "\\theta_{7} ((1- u_{1})u_{2}u_{3}(1- u_{4})) + \n",
    "\\theta_{8} ((1- u_{1})u_{2}u_{3}u_{4}) + \n",
    "\\theta_{9} (u_{1}(1- u_{2})(1- u_{3})(1- u_{4})) + \n",
    "\\theta_{10} (u_{1}(1- u_{2})(1- u_{3})u_{4}) + \n",
    "\\theta_{11} (u_{1}(1- u_{2})u_{3}(1- u_{4})) + \n",
    "\\theta_{12} (u_{1}(1- u_{2})u_{3}u_{4}) + \n",
    "\\theta_{13} (u_{1}u_{2}(1- u_{3})(1- u_{4})) + \n",
    "\\theta_{14} (u_{1}u_{2}(1- u_{3})u_{4}) + \n",
    "\\theta_{15} (u_{1}u_{2}u_{3}(1- u_{4})) + \n",
    "\\theta_{16} (u_{1}u_{2}u_{3}u_{4})  \n",
    ") $"
   ]
  },
  {
   "cell_type": "markdown",
   "metadata": {},
   "source": [
    "If the density function is calculated like \n",
    "\n",
    "$$\n",
    "c^{\\alpha}_{\\theta}(u_{1}, u_{2}, u_{3}, u_{4}) = \\frac{\\partial^{4}}{\\partial u_{1} \\partial u_{2} \\partial u_{3}\\partial u_{4}}C^{\\alpha}_{\\theta}(u_{1}, u_{2}, u_{3}, u_{4}) \n",
    "$$\n",
    "\n",
    "Further after some calculation, I found that most of the term in $\\dot{c_{\\theta}} $ canceled out due to \n",
    "$$ \\frac{\\partial B}{\\partial u_{i}}  = \\frac{\\partial^{2} B}{\\partial u_{i}\\partial u_{i}}  = \\frac{\\partial^{3} B}{\\partial u_{i} \\partial u_{i} \\partial u_{i}} = \\frac{\\partial^{4} B}{\\partial u_{i} \\partial u_{i} \\partial u_{i} \\partial u_{i}} = 0$$\n",
    "\n",
    "for i = {1,2,3,4}\n",
    "\n",
    "There was only one term left.\n",
    "$$\n",
    "\\frac{\\partial^{4} C}{\\partial u_{1} \\partial u_{2} \\partial u_{3} \\partial u_{4}} \\frac{\\partial B}{\\partial \\mathbf{\\theta}}\n",
    "$$\n",
    "which equals \n",
    "$$\n",
    "1- 2(u_{1} + u_{2} + u_{3} + u_{4}) + 4(u_{3}u_{4} + u_{2}u_{4} + u_{2}u_{3} + u_{1}u_{4}+ u_{1}u_{3} + u_{1}u_{2} - 8(u_{1}u_{2}u_{3} + u_{1}u_{2}u_{4} + u_{1}u_{3}u_{4} + u_{2}u_{3}u_{4}) + 16(u_{1}u_{2}u_{3}u_{4})\n",
    "$$\n",
    "\n"
   ]
  },
  {
   "cell_type": "code",
   "execution_count": null,
   "metadata": {},
   "outputs": [],
   "source": []
  }
 ],
 "metadata": {
  "kernelspec": {
   "display_name": "Python 3",
   "language": "python",
   "name": "python3"
  },
  "language_info": {
   "codemirror_mode": {
    "name": "ipython",
    "version": 3
   },
   "file_extension": ".py",
   "mimetype": "text/x-python",
   "name": "python",
   "nbconvert_exporter": "python",
   "pygments_lexer": "ipython3",
   "version": "3.7.9"
  }
 },
 "nbformat": 4,
 "nbformat_minor": 4
}
