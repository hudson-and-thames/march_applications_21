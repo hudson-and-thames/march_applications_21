{
 "cells": [
  {
   "cell_type": "markdown",
   "metadata": {},
   "source": [
    "# <center> Statistical Arbitrage with Vine Copulas - Pair Selection </center>\n",
    "\n",
    "Author: Jui Lin(Jamie) Keng <br>\n",
    "Email: jamiekeng1016@gmail.com <br>\n",
    "LinkedIn : https://www.linkedin.com/in/jui-lin-jamie-keng-3883b6131/"
   ]
  },
  {
   "cell_type": "markdown",
   "metadata": {},
   "source": [
    "# Introduction\n",
    "\n",
    "This notebook demonstrates four different approaches to the pair selection methods described in section three in [1]. The goal is to select three of the most suitable partner stocks given a target stock to form a quadruple. Based on different measures of dependence, each approach yields similar results, surprisingly. <br>\n",
    "\n",
    "Please note that it is computationally expensive to find $\\binom{50}{3}$ potential partner-stock combinations for every single constituent in S&P500. Therefore, I designed functions in a way that users can choose the number of target stocks out of S&P500, and the number of potential partner-stock combinations for each target stocks. <br>\n",
    "\n",
    "In the following demonstration, the file test_sp500.csv only contains 89 randomly picked constituents from S&P500. I chose to find $\\binom{10}{3}$ potential partner-stock combinations for each target stock to accelerate computation.\n",
    "\n"
   ]
  },
  {
   "cell_type": "markdown",
   "metadata": {},
   "source": [
    "\n",
    "# Structure of the notebook body\n",
    "1. Import and dowload the S&P500 historical price data <br>\n",
    "2. Partner Selection <br>\n",
    "    2.1. Traditional Approach <br>\n",
    "    2.2. Extended Approach <br>\n",
    "    2.3. Geometric Approaach <br>\n",
    "    2.4. Extremal Approach <br>\n",
    "3. Visualization <br>\n",
    "4. Conclusion <br>"
   ]
  },
  {
   "cell_type": "markdown",
   "metadata": {},
   "source": [
    "<img src='framework.jpeg' width=\"700\" height=\"600\">\n"
   ]
  },
  {
   "cell_type": "markdown",
   "metadata": {},
   "source": [
    "-----"
   ]
  },
  {
   "cell_type": "markdown",
   "metadata": {},
   "source": [
    "# 1. Import and dowload the S&P500 historical price data"
   ]
  },
  {
   "cell_type": "code",
   "execution_count": 1,
   "metadata": {},
   "outputs": [
    {
     "name": "stdout",
     "output_type": "stream",
     "text": [
      "Warning - Certain functionality \n",
      "             requires requests_html, which is not installed.\n",
      "             \n",
      "             Install using: \n",
      "             pip install requests_html\n",
      "             \n",
      "             After installation, you may have to restart your Python session.\n"
     ]
    }
   ],
   "source": [
    "import pandas as pd\n",
    "import numpy as np\n",
    "from preliminary import Preliminary\n",
    "from visualization import Visualization\n",
    "pre = Preliminary()\n"
   ]
  },
  {
   "cell_type": "code",
   "execution_count": 7,
   "metadata": {},
   "outputs": [
    {
     "name": "stdout",
     "output_type": "stream",
     "text": [
      "[*********************100%***********************]  322 of 322 completed\n",
      "\n",
      "1 Failed download:\n",
      "- BRK.B: No data found, symbol may be delisted\n"
     ]
    }
   ],
   "source": [
    "# Download the historical S&P 500 price data\n",
    "start_date = \"2015-01-01\"\n",
    "end_date =  \"2021-02-01\"\n",
    "interval = \"1d\"  \n",
    "num = 500\n",
    "\n",
    "hist_data = pre.download_sp500(start_date, end_date, interval, num)\n",
    "\n",
    "# Neglect the last row of the dataset\n",
    "hist_data = hist_data[:-1]\n",
    "hist_data = pre.remove_nuns(hist_data)\n",
    "\n",
    "# Save the downloaded historical price dataset to a designated directory.\n",
    "path ='./'\n",
    "hist_data.to_csv(path + 'sp500.csv')\n"
   ]
  },
  {
   "cell_type": "code",
   "execution_count": 3,
   "metadata": {},
   "outputs": [],
   "source": [
    "# Read the testing dataset\n",
    "sp500 = pd.read_csv('./test_sp500.csv', index_col =0)\n",
    "# Calcualte returns of each stock.\n",
    "ret_sp500 = pre.get_returns_data(hist_data =sp500)"
   ]
  },
  {
   "cell_type": "markdown",
   "metadata": {},
   "source": [
    "----"
   ]
  },
  {
   "cell_type": "markdown",
   "metadata": {},
   "source": [
    "# 2. Partner Selection"
   ]
  },
  {
   "cell_type": "markdown",
   "metadata": {},
   "source": [
    "## 2.1. Traditional Approach"
   ]
  },
  {
   "cell_type": "code",
   "execution_count": 4,
   "metadata": {
    "scrolled": true
   },
   "outputs": [],
   "source": [
    "from partner_selection import Traditional\n",
    "trad = Traditional(return_df= ret_sp500, partner_num =10)\n",
    "# Get the final quadruple for every target stock.\n",
    "result_trad = trad.solve()"
   ]
  },
  {
   "cell_type": "markdown",
   "metadata": {},
   "source": [
    "-------"
   ]
  },
  {
   "cell_type": "markdown",
   "metadata": {},
   "source": [
    "## 2.2 Extended Approach"
   ]
  },
  {
   "cell_type": "code",
   "execution_count": 4,
   "metadata": {},
   "outputs": [],
   "source": [
    "from partner_selection import Extended\n",
    "extended = Extended(return_df= ret_sp500, partner_num =10)\n",
    "# Get the final quadruple for every target stock.\n",
    "result_extended = extended.solve()"
   ]
  },
  {
   "cell_type": "markdown",
   "metadata": {},
   "source": [
    "-----"
   ]
  },
  {
   "cell_type": "markdown",
   "metadata": {},
   "source": [
    "## 2.3 Geometric Approach"
   ]
  },
  {
   "cell_type": "code",
   "execution_count": 5,
   "metadata": {},
   "outputs": [],
   "source": [
    "from partner_selection import Geometric\n",
    "geometric = Geometric(return_df= ret_sp500, partner_num =10)\n",
    "# Get the final quadruple for every target stock.\n",
    "result_geometric = geometric.solve()"
   ]
  },
  {
   "cell_type": "markdown",
   "metadata": {},
   "source": [
    "-----"
   ]
  },
  {
   "cell_type": "markdown",
   "metadata": {},
   "source": [
    "## 2.4 Extremal Approach"
   ]
  },
  {
   "cell_type": "code",
   "execution_count": 6,
   "metadata": {},
   "outputs": [],
   "source": [
    "from partner_selection import Extremal\n",
    "extremal = Extremal(return_df= ret_sp500, partner_num =10)\n",
    "# Get the final quadruple for every target stock.\n",
    "result_extremal = extremal.solve()"
   ]
  },
  {
   "cell_type": "markdown",
   "metadata": {},
   "source": [
    "----"
   ]
  },
  {
   "cell_type": "markdown",
   "metadata": {},
   "source": [
    "# 3. Visualization"
   ]
  },
  {
   "cell_type": "code",
   "execution_count": 7,
   "metadata": {},
   "outputs": [
    {
     "data": {
      "image/png": "[encoded data removed]",
      "text/plain": [
       "<Figure size 432x288 with 1 Axes>"
      ]
     },
     "metadata": {
      "needs_background": "light"
     },
     "output_type": "display_data"
    }
   ],
   "source": [
    "visual = Visualization()\n",
    "Visualization.plot_quadruple_diff(result_trad, result_extended, result_geometric, result_extremal)"
   ]
  },
  {
   "cell_type": "markdown",
   "metadata": {},
   "source": [
    "-----"
   ]
  },
  {
   "cell_type": "markdown",
   "metadata": {},
   "source": [
    "# 5. Conclusion"
   ]
  },
  {
   "cell_type": "markdown",
   "metadata": {},
   "source": [
    "It turned out that over 50 percent of the total quadruples the extremal approach generated were different from the quadruples generated by the traditional approach. On the other hand, in the cases of the extended approach and the geometric approach, there was about 20 percent of quadruples that were different from the traditional approach's results. Further analysis is needed to determine whether these differences add value to arbitrage trading.<br> \n",
    "\n"
   ]
  },
  {
   "cell_type": "markdown",
   "metadata": {},
   "source": [
    "----"
   ]
  },
  {
   "cell_type": "markdown",
   "metadata": {},
   "source": [
    "# Reference"
   ]
  },
  {
   "cell_type": "markdown",
   "metadata": {},
   "source": [
    "[1] Statistical arbitrage with vine copulas, FAU Discussion Papers in Economics, No. 11/2016, Friedrich-Alexander-Universität Erlangen-Nürnberg, Institute for Economics, Nürnberg <br> \n",
    "[2] A multivariate rank test of independence based on a multiparametric polynomial copula, IWQW Discussion Papers, No. 10/2015, Friedrich- Alexander-Universität Erlangen-Nürnberg, Institut für Wirtschaftspolitik und Quantitative Wirtschaftsforschung (IWQW), Nürnberg <br>\n",
    "[3] Justin Bedo, Cheng Soon Ong, Multivariate Spearman’s ρ for Aggregating Ranks Using Copulas (2016) <br>\n",
    "[4] Mark S. Tenney, Introduction to Copulas (2003) <br>\n",
    "[5] Roger B. Nelsem, Properties and applications of copulas: A brief survey <br>"
   ]
  },
  {
   "cell_type": "code",
   "execution_count": null,
   "metadata": {},
   "outputs": [],
   "source": []
  }
 ],
 "metadata": {
  "kernelspec": {
   "display_name": "Python 3",
   "language": "python",
   "name": "python3"
  },
  "language_info": {
   "codemirror_mode": {
    "name": "ipython",
    "version": 3
   },
   "file_extension": ".py",
   "mimetype": "text/x-python",
   "name": "python",
   "nbconvert_exporter": "python",
   "pygments_lexer": "ipython3",
   "version": "3.7.9"
  }
 },
 "nbformat": 4,
 "nbformat_minor": 4
}
